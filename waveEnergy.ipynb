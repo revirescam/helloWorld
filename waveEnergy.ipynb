{
 "metadata": {
  "name": ""
 },
 "nbformat": 3,
 "nbformat_minor": 0,
 "worksheets": [
  {
   "cells": [
    {
     "cell_type": "code",
     "collapsed": false,
     "input": [
      "%matplotlib inline\n",
      "import numpy as np\n",
      "import matplotlib.pyplot as plt\n",
      "import scipy.fftpack\n",
      "\n",
      "N = 256 # Number of samplepoints\n",
      "fsample = 8000.0 # freq\n",
      "t = np.linspace(0.0, N/fsample, N)\n",
      "tf = np.linspace(0.0, fsample/2, N/2)\n",
      "\n",
      "f1=1500\n",
      "f2=1200\n",
      "\n",
      "y1 = np.sin(2.0*np.pi*f1 * t)\n",
      "y2 = np.sin(2.0*np.pi*f2 * t)\n",
      "y =  0.3 * y1 + 0.7 * y2\n",
      "\n",
      "fftpk = scipy.fftpack.fft(y)\n",
      "fftpkr = scipy.fftpack.rfft(y)\n",
      "#fftnp = np.fft.fft(y)\n",
      "#fftnpr = np.fft.rfft(y)\n",
      "\n",
      "print fftpk.shape, fftpkr.shape#, fftnp.shape, fftnpr.shape\n",
      "\n",
      "fig, ax = plt.subplots()\n",
      "ax.plot(tf, 2.0/N * np.abs(fftpk[0:N/2]))\n",
      "plt.ylabel('abs(fft)')\n",
      "plt.grid(True)\n",
      "\n",
      "rms_val = np.sqrt(np.mean(y*y))\n",
      "energy = np.mean(y*y)\n",
      "\n",
      "energyfftpk =  np.sum(     np.abs(fftpk ) **2  ) / N**2\n",
      "energyfftpkr = np.sum( 2 * np.abs(fftpkr) **2  ) / N**2\n",
      "\n",
      "print 'rms amplitude is {}'.format(rms_val)\n",
      "print 'sample energy is {}     (mean of the squares)'.format(energy)\n",
      "print 'fftpk  energy is {}     (sum of abs of fft squared)'.format(energyfftpk)\n",
      "print 'fftpkr energy is {}   (sum of twice abs of fft squared (inaccurate?))'.format(energyfftpkr)\n",
      "print 'power in dB = {}'.format( 10 * np.log10(energy)  ) # dB from energy\n",
      "print 'power in dB = {}'.format( 20 * np.log10(rms_val) ) # dB from amplitude"
     ],
     "language": "python",
     "metadata": {},
     "outputs": [
      {
       "output_type": "stream",
       "stream": "stdout",
       "text": [
        "(256,) (256,)\n",
        "rms amplitude is 0.536062814747\n",
        "sample energy is 0.287363341355     (mean of the squares)\n",
        "fftpk  energy is 0.287363341355     (sum of abs of fft squared)\n",
        "fftpkr energy is 0.287398073934   (sum of twice abs of fft squared (inaccurate?))\n",
        "power in dB = -5.41568635168\n",
        "power in dB = -5.41568635168\n"
       ]
      },
      {
       "metadata": {},
       "output_type": "display_data",
       "png": "[encoded data removed]",
       "text": [
        "<matplotlib.figure.Figure at 0xb15c8f2c>"
       ]
      }
     ],
     "prompt_number": 2
    },
    {
     "cell_type": "code",
     "collapsed": false,
     "input": [],
     "language": "python",
     "metadata": {},
     "outputs": []
    }
   ],
   "metadata": {}
  }
 ]
}